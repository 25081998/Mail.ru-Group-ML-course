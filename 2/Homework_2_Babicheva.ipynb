{
 "cells": [
  {
   "cell_type": "code",
   "execution_count": 1,
   "metadata": {},
   "outputs": [],
   "source": [
    "import pandas as pd\n",
    "import numpy as np"
   ]
  },
  {
   "cell_type": "code",
   "execution_count": 2,
   "metadata": {},
   "outputs": [
    {
     "name": "stdout",
     "output_type": "stream",
     "text": [
      "<class 'pandas.core.frame.DataFrame'>\n",
      "RangeIndex: 784 entries, 0 to 783\n",
      "Data columns (total 7 columns):\n",
      "vendor_id            784 non-null int64\n",
      "chain_id             784 non-null int64\n",
      "city_name            784 non-null object\n",
      "specialisation       784 non-null object\n",
      "successful_orders    784 non-null float64\n",
      "fail_orders          784 non-null float64\n",
      "reorders             784 non-null float64\n",
      "dtypes: float64(3), int64(2), object(2)\n",
      "memory usage: 43.0+ KB\n",
      "None\n"
     ]
    }
   ],
   "source": [
    "### 1 ЗАДАНИЕ ###\n",
    "df = pd.read_csv('restaurants.csv', sep=',')\n",
    "print(df.info())"
   ]
  },
  {
   "cell_type": "code",
   "execution_count": 7,
   "metadata": {},
   "outputs": [
    {
     "name": "stdout",
     "output_type": "stream",
     "text": [
      "count = 784\n"
     ]
    }
   ],
   "source": [
    "### 2 ЗАДАНИЕ ###\n",
    "print('count of entries = {}'.format(df.shape[0]))"
   ]
  },
  {
   "cell_type": "code",
   "execution_count": 8,
   "metadata": {},
   "outputs": [
    {
     "name": "stdout",
     "output_type": "stream",
     "text": [
      "count of column = 7\n"
     ]
    }
   ],
   "source": [
    "### 3 ЗАДАНИЕ ###\n",
    "print('count of column = {}'.format(df.shape[1]))"
   ]
  },
  {
   "cell_type": "code",
   "execution_count": 22,
   "metadata": {},
   "outputs": [
    {
     "name": "stdout",
     "output_type": "stream",
     "text": [
      "count of unique cities = 63\n"
     ]
    }
   ],
   "source": [
    "### 4 ЗАДАНИЕ ###\n",
    "print('count of unique cities = {}'.format(df['city_name'].nunique()))"
   ]
  },
  {
   "cell_type": "code",
   "execution_count": 41,
   "metadata": {},
   "outputs": [
    {
     "data": {
      "text/plain": [
       "Index(['vendor_id', 'chain_id', 'city_name', 'specialisation',\n",
       "       'successful_orders', 'fail_orders', 'reorders'],\n",
       "      dtype='object')"
      ]
     },
     "execution_count": 41,
     "metadata": {},
     "output_type": "execute_result"
    }
   ],
   "source": [
    "df.columns"
   ]
  },
  {
   "cell_type": "code",
   "execution_count": 40,
   "metadata": {},
   "outputs": [
    {
     "data": {
      "text/html": [
       "<div>\n",
       "<style scoped>\n",
       "    .dataframe tbody tr th:only-of-type {\n",
       "        vertical-align: middle;\n",
       "    }\n",
       "\n",
       "    .dataframe tbody tr th {\n",
       "        vertical-align: top;\n",
       "    }\n",
       "\n",
       "    .dataframe thead th {\n",
       "        text-align: right;\n",
       "    }\n",
       "</style>\n",
       "<table border=\"1\" class=\"dataframe\">\n",
       "  <thead>\n",
       "    <tr style=\"text-align: right;\">\n",
       "      <th></th>\n",
       "      <th>vendor_id</th>\n",
       "      <th>chain_id</th>\n",
       "      <th>city_name</th>\n",
       "      <th>specialisation</th>\n",
       "      <th>successful_orders</th>\n",
       "      <th>fail_orders</th>\n",
       "      <th>reorders</th>\n",
       "    </tr>\n",
       "  </thead>\n",
       "  <tbody>\n",
       "    <tr>\n",
       "      <th>0</th>\n",
       "      <td>28957</td>\n",
       "      <td>20633</td>\n",
       "      <td>Архангельск</td>\n",
       "      <td>Супы</td>\n",
       "      <td>0.0</td>\n",
       "      <td>2.0</td>\n",
       "      <td>0.0</td>\n",
       "    </tr>\n",
       "    <tr>\n",
       "      <th>1</th>\n",
       "      <td>37381</td>\n",
       "      <td>27399</td>\n",
       "      <td>Архангельск</td>\n",
       "      <td>Пироги</td>\n",
       "      <td>0.0</td>\n",
       "      <td>0.0</td>\n",
       "      <td>0.0</td>\n",
       "    </tr>\n",
       "    <tr>\n",
       "      <th>2</th>\n",
       "      <td>28703</td>\n",
       "      <td>20431</td>\n",
       "      <td>Архангельск</td>\n",
       "      <td>Суши</td>\n",
       "      <td>111.0</td>\n",
       "      <td>3.0</td>\n",
       "      <td>0.0</td>\n",
       "    </tr>\n",
       "    <tr>\n",
       "      <th>3</th>\n",
       "      <td>37382</td>\n",
       "      <td>27399</td>\n",
       "      <td>Архангельск</td>\n",
       "      <td>Пироги</td>\n",
       "      <td>1.0</td>\n",
       "      <td>0.0</td>\n",
       "      <td>0.0</td>\n",
       "    </tr>\n",
       "    <tr>\n",
       "      <th>4</th>\n",
       "      <td>36877</td>\n",
       "      <td>27151</td>\n",
       "      <td>Архангельск</td>\n",
       "      <td>Бургеры</td>\n",
       "      <td>22.0</td>\n",
       "      <td>2.0</td>\n",
       "      <td>0.0</td>\n",
       "    </tr>\n",
       "  </tbody>\n",
       "</table>\n",
       "</div>"
      ],
      "text/plain": [
       "   vendor_id  chain_id    city_name specialisation  successful_orders  \\\n",
       "0      28957     20633  Архангельск           Супы                0.0   \n",
       "1      37381     27399  Архангельск         Пироги                0.0   \n",
       "2      28703     20431  Архангельск           Суши              111.0   \n",
       "3      37382     27399  Архангельск         Пироги                1.0   \n",
       "4      36877     27151  Архангельск        Бургеры               22.0   \n",
       "\n",
       "   fail_orders  reorders  \n",
       "0          2.0       0.0  \n",
       "1          0.0       0.0  \n",
       "2          3.0       0.0  \n",
       "3          0.0       0.0  \n",
       "4          2.0       0.0  "
      ]
     },
     "execution_count": 40,
     "metadata": {},
     "output_type": "execute_result"
    }
   ],
   "source": [
    "df.head()"
   ]
  },
  {
   "cell_type": "code",
   "execution_count": 39,
   "metadata": {},
   "outputs": [
    {
     "data": {
      "text/html": [
       "<div>\n",
       "<style scoped>\n",
       "    .dataframe tbody tr th:only-of-type {\n",
       "        vertical-align: middle;\n",
       "    }\n",
       "\n",
       "    .dataframe tbody tr th {\n",
       "        vertical-align: top;\n",
       "    }\n",
       "\n",
       "    .dataframe thead th {\n",
       "        text-align: right;\n",
       "    }\n",
       "</style>\n",
       "<table border=\"1\" class=\"dataframe\">\n",
       "  <thead>\n",
       "    <tr style=\"text-align: right;\">\n",
       "      <th></th>\n",
       "      <th>vendor_id</th>\n",
       "      <th>chain_id</th>\n",
       "      <th>successful_orders</th>\n",
       "      <th>fail_orders</th>\n",
       "      <th>reorders</th>\n",
       "    </tr>\n",
       "  </thead>\n",
       "  <tbody>\n",
       "    <tr>\n",
       "      <th>count</th>\n",
       "      <td>784.000000</td>\n",
       "      <td>784.000000</td>\n",
       "      <td>784.000000</td>\n",
       "      <td>784.000000</td>\n",
       "      <td>784.000000</td>\n",
       "    </tr>\n",
       "    <tr>\n",
       "      <th>mean</th>\n",
       "      <td>28054.003827</td>\n",
       "      <td>19386.003827</td>\n",
       "      <td>115.344388</td>\n",
       "      <td>2.576531</td>\n",
       "      <td>2.256378</td>\n",
       "    </tr>\n",
       "    <tr>\n",
       "      <th>std</th>\n",
       "      <td>9705.712916</td>\n",
       "      <td>7942.891996</td>\n",
       "      <td>176.792621</td>\n",
       "      <td>5.361445</td>\n",
       "      <td>5.374062</td>\n",
       "    </tr>\n",
       "    <tr>\n",
       "      <th>min</th>\n",
       "      <td>1847.000000</td>\n",
       "      <td>872.000000</td>\n",
       "      <td>0.000000</td>\n",
       "      <td>0.000000</td>\n",
       "      <td>0.000000</td>\n",
       "    </tr>\n",
       "    <tr>\n",
       "      <th>25%</th>\n",
       "      <td>22165.250000</td>\n",
       "      <td>13973.250000</td>\n",
       "      <td>14.750000</td>\n",
       "      <td>0.000000</td>\n",
       "      <td>0.000000</td>\n",
       "    </tr>\n",
       "    <tr>\n",
       "      <th>50%</th>\n",
       "      <td>30821.500000</td>\n",
       "      <td>20972.000000</td>\n",
       "      <td>53.500000</td>\n",
       "      <td>1.000000</td>\n",
       "      <td>1.000000</td>\n",
       "    </tr>\n",
       "    <tr>\n",
       "      <th>75%</th>\n",
       "      <td>36508.000000</td>\n",
       "      <td>26811.250000</td>\n",
       "      <td>142.250000</td>\n",
       "      <td>3.000000</td>\n",
       "      <td>2.000000</td>\n",
       "    </tr>\n",
       "    <tr>\n",
       "      <th>max</th>\n",
       "      <td>37926.000000</td>\n",
       "      <td>27791.000000</td>\n",
       "      <td>1644.000000</td>\n",
       "      <td>70.000000</td>\n",
       "      <td>65.000000</td>\n",
       "    </tr>\n",
       "  </tbody>\n",
       "</table>\n",
       "</div>"
      ],
      "text/plain": [
       "          vendor_id      chain_id  successful_orders  fail_orders    reorders\n",
       "count    784.000000    784.000000         784.000000   784.000000  784.000000\n",
       "mean   28054.003827  19386.003827         115.344388     2.576531    2.256378\n",
       "std     9705.712916   7942.891996         176.792621     5.361445    5.374062\n",
       "min     1847.000000    872.000000           0.000000     0.000000    0.000000\n",
       "25%    22165.250000  13973.250000          14.750000     0.000000    0.000000\n",
       "50%    30821.500000  20972.000000          53.500000     1.000000    1.000000\n",
       "75%    36508.000000  26811.250000         142.250000     3.000000    2.000000\n",
       "max    37926.000000  27791.000000        1644.000000    70.000000   65.000000"
      ]
     },
     "execution_count": 39,
     "metadata": {},
     "output_type": "execute_result"
    }
   ],
   "source": [
    "df.describe()"
   ]
  },
  {
   "cell_type": "code",
   "execution_count": 38,
   "metadata": {},
   "outputs": [
    {
     "data": {
      "text/html": [
       "<div>\n",
       "<style scoped>\n",
       "    .dataframe tbody tr th:only-of-type {\n",
       "        vertical-align: middle;\n",
       "    }\n",
       "\n",
       "    .dataframe tbody tr th {\n",
       "        vertical-align: top;\n",
       "    }\n",
       "\n",
       "    .dataframe thead th {\n",
       "        text-align: right;\n",
       "    }\n",
       "</style>\n",
       "<table border=\"1\" class=\"dataframe\">\n",
       "  <thead>\n",
       "    <tr style=\"text-align: right;\">\n",
       "      <th></th>\n",
       "      <th>city_name</th>\n",
       "      <th>specialisation</th>\n",
       "    </tr>\n",
       "  </thead>\n",
       "  <tbody>\n",
       "    <tr>\n",
       "      <th>count</th>\n",
       "      <td>784</td>\n",
       "      <td>784</td>\n",
       "    </tr>\n",
       "    <tr>\n",
       "      <th>unique</th>\n",
       "      <td>63</td>\n",
       "      <td>27</td>\n",
       "    </tr>\n",
       "    <tr>\n",
       "      <th>top</th>\n",
       "      <td>Ульяновск</td>\n",
       "      <td>Суши</td>\n",
       "    </tr>\n",
       "    <tr>\n",
       "      <th>freq</th>\n",
       "      <td>14</td>\n",
       "      <td>329</td>\n",
       "    </tr>\n",
       "  </tbody>\n",
       "</table>\n",
       "</div>"
      ],
      "text/plain": [
       "        city_name specialisation\n",
       "count         784            784\n",
       "unique         63             27\n",
       "top     Ульяновск           Суши\n",
       "freq           14            329"
      ]
     },
     "execution_count": 38,
     "metadata": {},
     "output_type": "execute_result"
    }
   ],
   "source": [
    "df.describe(include=['object'])"
   ]
  },
  {
   "cell_type": "code",
   "execution_count": 26,
   "metadata": {},
   "outputs": [
    {
     "name": "stdout",
     "output_type": "stream",
     "text": [
      "count of fish restaurants = 30\n"
     ]
    }
   ],
   "source": [
    "### 5 ЗАДАНИЕ ###\n",
    "df_fish = df[df.specialisation == 'Рыба']\n",
    "print('count of fish restaurants = {}'.format(df_fish.shape[0]))"
   ]
  },
  {
   "cell_type": "code",
   "execution_count": 70,
   "metadata": {},
   "outputs": [
    {
     "name": "stdout",
     "output_type": "stream",
     "text": [
      "mean of successful orders = 115\n"
     ]
    }
   ],
   "source": [
    "### 6 ЗАДАНИЕ ###\n",
    "print('mean of successful orders = {}'.format(round(df['successful_orders'].mean())))"
   ]
  },
  {
   "cell_type": "code",
   "execution_count": 61,
   "metadata": {},
   "outputs": [
    {
     "data": {
      "text/plain": [
       "city_name\n",
       "Ханты-Мансийск    True\n",
       "Name: vendor_id, dtype: bool"
      ]
     },
     "execution_count": 61,
     "metadata": {},
     "output_type": "execute_result"
    }
   ],
   "source": [
    "### 7 ЗАДАНИЕ ###\n",
    "min = df.groupby(by = 'city_name')['vendor_id'].count().min()\n",
    "s_min = (df.groupby(by = 'city_name')['vendor_id'].count() == min)\n",
    "s_min[(s_min == True)]"
   ]
  },
  {
   "cell_type": "code",
   "execution_count": 62,
   "metadata": {},
   "outputs": [
    {
     "name": "stdout",
     "output_type": "stream",
     "text": [
      "count > 20 = 10\n"
     ]
    }
   ],
   "source": [
    "### 8 ЗАДАНИЕ ###\n",
    "df_20 = df[df.fail_orders > 20]\n",
    "print('count > 20 = {}'.format(df_20.shape[0]))"
   ]
  },
  {
   "cell_type": "code",
   "execution_count": 66,
   "metadata": {},
   "outputs": [
    {
     "name": "stdout",
     "output_type": "stream",
     "text": [
      "20 < count < 500 = 5\n"
     ]
    }
   ],
   "source": [
    "### 9 ЗАДАНИЕ ###\n",
    "df_20_500 = df[(df.fail_orders > 20) & (df.successful_orders < 500)]\n",
    "print('20 < count < 500 = {}'.format(df_20_500.shape[0]))"
   ]
  },
  {
   "cell_type": "code",
   "execution_count": 71,
   "metadata": {},
   "outputs": [
    {
     "name": "stdout",
     "output_type": "stream",
     "text": [
      "mean of bakery = 13\n"
     ]
    }
   ],
   "source": [
    "### 10 ЗАДАНИЕ ###\n",
    "df_bakery = df[df.specialisation == 'Выпечка']\n",
    "print('mean of bakery = {}'.format(round(df_bakery['successful_orders'].mean())))"
   ]
  },
  {
   "cell_type": "code",
   "execution_count": 31,
   "metadata": {},
   "outputs": [
    {
     "name": "stdout",
     "output_type": "stream",
     "text": [
      "answer: Вегетарианское меню\n"
     ]
    }
   ],
   "source": [
    "### 11 ЗАДАНИЕ ###\n",
    "df_spec = df[['specialisation', 'successful_orders', 'fail_orders', 'reorders']]\n",
    "d = dict()\n",
    "k = 0\n",
    "for s in df.specialisation:\n",
    "    if s in d:\n",
    "        d[s][0] += df_spec.at[k, 'successful_orders']\n",
    "        d[s][1] += df_spec.at[k, 'fail_orders']\n",
    "        d[s][2] += df_spec.at[k, 'reorders']\n",
    "    else:\n",
    "        d.update({s: [df_spec.at[k, 'successful_orders'], df_spec.at[k, 'fail_orders'], df_spec.at[k, 'reorders']]})\n",
    "    k += 1\n",
    "key = 'Супы'\n",
    "orders = d[key][0] + d[key][1] + d[key][2]\n",
    "max = d[key][1] / orders\n",
    "for k in d.keys():\n",
    "    orders = d[k][0] + d[k][1] + d[k][2] \n",
    "    if (d[k][1] / orders) > max:\n",
    "        max = d[k][1] / orders\n",
    "        key = k\n",
    "print('answer: {}'.format(key))"
   ]
  },
  {
   "cell_type": "code",
   "execution_count": 72,
   "metadata": {},
   "outputs": [
    {
     "name": "stdout",
     "output_type": "stream",
     "text": [
      "max of burgers = 506.0\n"
     ]
    }
   ],
   "source": [
    "### 12 ЗАДАНИЕ ###\n",
    "df_burgers = df[df.specialisation == 'Бургеры']\n",
    "print('max of burgers = {}'.format(round(df_burgers['successful_orders'].max())))"
   ]
  },
  {
   "cell_type": "code",
   "execution_count": 3,
   "metadata": {},
   "outputs": [
    {
     "name": "stdout",
     "output_type": "stream",
     "text": [
      "mean of sushi = 328\n"
     ]
    }
   ],
   "source": [
    "### 13 ЗАДАНИЕ ###\n",
    "df_sushi = df[(df.specialisation == 'Суши') & (df.city_name == 'Белгород')][['successful_orders']]\n",
    "print('mean of sushi = {}'.format(round(df_sushi['successful_orders'].mean())))"
   ]
  },
  {
   "cell_type": "code",
   "execution_count": 17,
   "metadata": {},
   "outputs": [
    {
     "name": "stdout",
     "output_type": "stream",
     "text": [
      "   vendor_id  chain_id    city_name specialisation  successful_orders  \\\n",
      "0      28957     20633  Архангельск           Супы                0.0   \n",
      "1      37381     27399  Архангельск         Пироги                0.0   \n",
      "2      28703     20431  Архангельск           Суши              111.0   \n",
      "3      37382     27399  Архангельск         Пироги                1.0   \n",
      "4      36877     27151  Архангельск        Бургеры               22.0   \n",
      "\n",
      "   fail_orders  reorders  \n",
      "0          2.0       0.0  \n",
      "1          0.0       0.0  \n",
      "2          3.0       0.0  \n",
      "3          0.0       0.0  \n",
      "4          2.0       0.0  \n",
      "   vendor_id  model_score\n",
      "0          1     0.622864\n",
      "1          2     0.331360\n",
      "2          3     0.450092\n",
      "3          4     0.240392\n",
      "4          5     0.297691\n",
      "   vendor_id  chain_id    city_name specialisation  successful_orders  \\\n",
      "0      28957     20633  Архангельск           Супы                0.0   \n",
      "1      37381     27399  Архангельск         Пироги                0.0   \n",
      "2      28703     20431  Архангельск           Суши              111.0   \n",
      "3      37382     27399  Архангельск         Пироги                1.0   \n",
      "4      36877     27151  Архангельск        Бургеры               22.0   \n",
      "\n",
      "   fail_orders  reorders  model_score  \n",
      "0          2.0       0.0     0.421871  \n",
      "1          0.0       0.0     0.386503  \n",
      "2          3.0       0.0     0.664808  \n",
      "3          0.0       0.0     0.838883  \n",
      "4          2.0       0.0     0.176469  \n",
      "answer = 0.6126930164173244\n"
     ]
    }
   ],
   "source": [
    "### 14 ЗАДАНИЕ ###\n",
    "print(df.head())\n",
    "df_1 = pd.read_csv('restaurant_scores.csv', sep=',')\n",
    "df_1.columns = ['vendor_id', 'model_score']\n",
    "print(df_1.head())\n",
    "df_new = pd.merge(df, df_1, on='vendor_id')\n",
    "print(df_new.head())\n",
    "print('answer = {}'.format(df_new[df_new.chain_id == 27399][['model_score']].mean().max()))"
   ]
  },
  {
   "cell_type": "code",
   "execution_count": 2,
   "metadata": {},
   "outputs": [],
   "source": [
    "%matplotlib inline\n",
    "import matplotlib.pyplot as plt"
   ]
  },
  {
   "cell_type": "code",
   "execution_count": 47,
   "metadata": {},
   "outputs": [
    {
     "data": {
      "text/plain": [
       "<BarContainer object of 6 artists>"
      ]
     },
     "execution_count": 47,
     "metadata": {},
     "output_type": "execute_result"
    },
    {
     "data": {
      "image/png": "[encoded data removed]",
      "text/plain": [
       "<Figure size 1008x360 with 1 Axes>"
      ]
     },
     "metadata": {
      "needs_background": "light"
     },
     "output_type": "display_data"
    }
   ],
   "source": [
    "### 15 ЗАДАНИЕ ###\n",
    "x = ['Java', 'Python', 'PHP', 'JavaScript', 'C#', 'C++']\n",
    "popularity = [22.2, 17.6, 8.8, 8, 7.7, 6.7]\n",
    "fig = plt.figure(figsize= (14,5))\n",
    "ax = fig.add_subplot()\n",
    "ax.set_xlabel('Язык')\n",
    "ax.set_ylabel('Популярность')\n",
    "ax.set_title('Популярность языков программирования')\n",
    "ax.grid()\n",
    "ax.bar(x, popularity) "
   ]
  },
  {
   "cell_type": "code",
   "execution_count": 26,
   "metadata": {
    "scrolled": false
   },
   "outputs": [
    {
     "name": "stdout",
     "output_type": "stream",
     "text": [
      "    Unnamed: 0   chain_name        lon        lat  orders\n",
      "30          30      Zvjezda  37.718238  55.794452       4\n",
      "31          31    Amazonija  37.748619  55.791744       5\n",
      "32          32      Spasibo  37.728523  55.818736       0\n",
      "33          33   Gurman_msk  37.734201  55.783089       0\n",
      "34          34  Super_Papas  37.751179  55.780795       0\n"
     ]
    },
    {
     "data": {
      "text/plain": [
       "Text(0.5, 0, 'Заказы')"
      ]
     },
     "execution_count": 26,
     "metadata": {},
     "output_type": "execute_result"
    },
    {
     "data": {
      "image/png": "[encoded data removed]",
      "text/plain": [
       "<Figure size 1008x648 with 2 Axes>"
      ]
     },
     "metadata": {
      "needs_background": "light"
     },
     "output_type": "display_data"
    }
   ],
   "source": [
    "# 16 ЗАДАНИЕ ###\n",
    "import seaborn as sns\n",
    "partizan = pd.read_excel('лекции/Лекция 2_МАИ_0710/files/lesson_2/partizan.xlsx')\n",
    "print(partizan.tail())\n",
    "fig = plt.figure(figsize= (14,9))\n",
    "ax1 = fig.add_subplot(211)\n",
    "ax1.set_xlim(-20,80)\n",
    "ax1.set_title('Распределение заказов в районе метро Партизанская')\n",
    "sns.boxplot( x=\"orders\", data=partizan[partizan.orders.isin(np.arange(-20,80))], orient=\"h\", color=\"LightBlue\")\n",
    "ax2 = fig.add_subplot(212)\n",
    "sns.distplot(partizan['orders'].dropna(), kde=True)\n",
    "sns.kdeplot(partizan.orders, color=\"Blue\", legend=False)\n",
    "ax2.set_xlabel('Заказы')"
   ]
  }
 ],
 "metadata": {
  "kernelspec": {
   "display_name": "Python 3",
   "language": "python",
   "name": "python3"
  },
  "language_info": {
   "codemirror_mode": {
    "name": "ipython",
    "version": 3
   },
   "file_extension": ".py",
   "mimetype": "text/x-python",
   "name": "python",
   "nbconvert_exporter": "python",
   "pygments_lexer": "ipython3",
   "version": "3.7.3"
  }
 },
 "nbformat": 4,
 "nbformat_minor": 2
}
