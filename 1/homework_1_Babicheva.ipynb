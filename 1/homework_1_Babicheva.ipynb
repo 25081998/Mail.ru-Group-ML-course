{
 "cells": [
  {
   "cell_type": "markdown",
   "metadata": {},
   "source": [
    "# Задание с картинкой"
   ]
  },
  {
   "cell_type": "markdown",
   "metadata": {},
   "source": [
    "Его я пришлю отдельным файлом на почту, так как что-то не получается запустить здесь("
   ]
  },
  {
   "cell_type": "markdown",
   "metadata": {},
   "source": [
    "# Задание с массивами"
   ]
  },
  {
   "cell_type": "code",
   "execution_count": 1,
   "metadata": {},
   "outputs": [
    {
     "name": "stdout",
     "output_type": "stream",
     "text": [
      "sum = 500\n"
     ]
    }
   ],
   "source": [
    "### ПЕРВОЕ ЗАДАНИЕ ###\n",
    "import numpy as np\n",
    "np.random.seed(7964)\n",
    "A = np.random.randint(0, 8, size=(500, 500)) \n",
    "np.set_printoptions(threshold=np.inf)\n",
    "Max = np.max(A, axis = 0)\n",
    "B = np.where(Max == 7, 1, 0)\n",
    "sum = np.sum(B)\n",
    "print(\"sum = {}\".format(sum))"
   ]
  },
  {
   "cell_type": "code",
   "execution_count": 4,
   "metadata": {},
   "outputs": [
    {
     "name": "stdout",
     "output_type": "stream",
     "text": [
      "sum = 62383552\n"
     ]
    }
   ],
   "source": [
    "### ПЕРВОЕ ЗАДАНИЕ ###\n",
    "Ind = np.where(A < 4)\n",
    "sum = np.sum(Ind)\n",
    "print(\"sum = {}\".format(sum))"
   ]
  },
  {
   "cell_type": "code",
   "execution_count": 5,
   "metadata": {},
   "outputs": [
    {
     "name": "stdout",
     "output_type": "stream",
     "text": [
      "sum = 31139828\n"
     ]
    }
   ],
   "source": [
    "### ВТОРОЕ ЗАДАНИЕ ###\n",
    "Ind = np.where(np.logical_and(A < 4, A >= 2))\n",
    "sum = np.sum(Ind)\n",
    "print(\"sum = {}\".format(sum))"
   ]
  },
  {
   "cell_type": "code",
   "execution_count": 6,
   "metadata": {},
   "outputs": [
    {
     "name": "stdout",
     "output_type": "stream",
     "text": [
      "sum = 156096\n"
     ]
    }
   ],
   "source": [
    "### ТРЕТЬЕ ЗАДАНИЕ ###\n",
    "Val = A[Ind]\n",
    "sum = np.sum(Val)\n",
    "print(\"sum = {}\".format(sum))"
   ]
  },
  {
   "cell_type": "code",
   "execution_count": 7,
   "metadata": {},
   "outputs": [
    {
     "name": "stdout",
     "output_type": "stream",
     "text": [
      "sum = 3500\n"
     ]
    }
   ],
   "source": [
    "### ЧЕТВЕРТОЕ ЗАДАНИЕ ###\n",
    "Max = np.max(A, axis = 0)\n",
    "sum = np.sum(Max)\n",
    "print(\"sum = {}\".format(sum))"
   ]
  },
  {
   "cell_type": "code",
   "execution_count": 8,
   "metadata": {},
   "outputs": [
    {
     "name": "stdout",
     "output_type": "stream",
     "text": [
      "sum = 218833635\n"
     ]
    }
   ],
   "source": [
    "### ПЯТОЕ ЗАДАНИЕ ###\n",
    "x = np.arange(1, 501, 1)\n",
    "scalar = np.inner(A, x)\n",
    "sum = np.sum(scalar)\n",
    "print(\"sum = {}\".format(sum))"
   ]
  },
  {
   "cell_type": "code",
   "execution_count": 2,
   "metadata": {},
   "outputs": [
    {
     "name": "stdout",
     "output_type": "stream",
     "text": [
      "sum = 15215957\n"
     ]
    }
   ],
   "source": [
    "### ШЕСТОЕ ЗАДАНИЕ ###\n",
    "np.random.seed(33)\n",
    "w = np.random.randint(0, 8, size=(5, 500))\n",
    "wt = np.transpose(w)\n",
    "res = np.dot(A, wt)\n",
    "sum = np.sum(res)\n",
    "print(\"sum = {}\".format(sum))"
   ]
  },
  {
   "cell_type": "code",
   "execution_count": 3,
   "metadata": {},
   "outputs": [
    {
     "name": "stdout",
     "output_type": "stream",
     "text": [
      "sum = 3045726\n"
     ]
    }
   ],
   "source": [
    "### СЕДЬМОЕ ЗАДАНИЕ ###\n",
    "res = np.vsplit(A, 100) * w\n",
    "sum = np.sum(res)\n",
    "print(\"sum = {}\".format(sum))"
   ]
  }
 ],
 "metadata": {
  "kernelspec": {
   "display_name": "Python 3",
   "language": "python",
   "name": "python3"
  },
  "language_info": {
   "codemirror_mode": {
    "name": "ipython",
    "version": 3
   },
   "file_extension": ".py",
   "mimetype": "text/x-python",
   "name": "python",
   "nbconvert_exporter": "python",
   "pygments_lexer": "ipython3",
   "version": "3.7.3"
  }
 },
 "nbformat": 4,
 "nbformat_minor": 2
}
