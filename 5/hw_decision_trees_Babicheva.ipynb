{
 "cells": [
  {
   "cell_type": "markdown",
   "metadata": {},
   "source": [
    "\n",
    "\n",
    "Ответы на данное задание необходимо заполнить здесь - https://forms.gle/Ny8FmBtXVV4oQesP6\n",
    "\n",
    "Само соревнование - https://www.kaggle.com/c/mai-ml-decision-trees/overview\n"
   ]
  },
  {
   "cell_type": "code",
   "execution_count": 1,
   "metadata": {},
   "outputs": [],
   "source": [
    "import os\n",
    "\n",
    "import pandas as pd\n",
    "import numpy as np\n",
    "import matplotlib.pyplot as plt\n",
    "import seaborn as sns\n",
    "import sklearn.metrics as sm\n",
    "import warnings\n",
    "\n",
    "from sklearn.linear_model import LogisticRegression\n",
    "from sklearn.neighbors import KNeighborsClassifier\n",
    "from sklearn.model_selection import KFold, StratifiedKFold\n",
    "from sklearn.preprocessing import LabelEncoder\n",
    "\n",
    "from tqdm import tqdm\n",
    "\n",
    "warnings.filterwarnings(\"ignore\")\n",
    "\n",
    "%matplotlib inline"
   ]
  },
  {
   "cell_type": "code",
   "execution_count": 2,
   "metadata": {},
   "outputs": [
    {
     "data": {
      "text/html": [
       "<div>\n",
       "<style scoped>\n",
       "    .dataframe tbody tr th:only-of-type {\n",
       "        vertical-align: middle;\n",
       "    }\n",
       "\n",
       "    .dataframe tbody tr th {\n",
       "        vertical-align: top;\n",
       "    }\n",
       "\n",
       "    .dataframe thead th {\n",
       "        text-align: right;\n",
       "    }\n",
       "</style>\n",
       "<table border=\"1\" class=\"dataframe\">\n",
       "  <thead>\n",
       "    <tr style=\"text-align: right;\">\n",
       "      <th></th>\n",
       "      <th>PassengerId</th>\n",
       "      <th>Pclass</th>\n",
       "      <th>Name</th>\n",
       "      <th>Sex</th>\n",
       "      <th>Age</th>\n",
       "      <th>SibSp</th>\n",
       "      <th>Parch</th>\n",
       "      <th>Ticket</th>\n",
       "      <th>Fare</th>\n",
       "      <th>Cabin</th>\n",
       "      <th>Embarked</th>\n",
       "      <th>Survived</th>\n",
       "    </tr>\n",
       "  </thead>\n",
       "  <tbody>\n",
       "    <tr>\n",
       "      <th>0</th>\n",
       "      <td>888</td>\n",
       "      <td>1</td>\n",
       "      <td>Graham, Miss. Margaret Edith</td>\n",
       "      <td>female</td>\n",
       "      <td>19.0</td>\n",
       "      <td>0</td>\n",
       "      <td>0</td>\n",
       "      <td>112053</td>\n",
       "      <td>30.0000</td>\n",
       "      <td>B42</td>\n",
       "      <td>S</td>\n",
       "      <td>1</td>\n",
       "    </tr>\n",
       "    <tr>\n",
       "      <th>1</th>\n",
       "      <td>1249</td>\n",
       "      <td>3</td>\n",
       "      <td>Lockyer, Mr. Edward</td>\n",
       "      <td>male</td>\n",
       "      <td>NaN</td>\n",
       "      <td>0</td>\n",
       "      <td>0</td>\n",
       "      <td>1222</td>\n",
       "      <td>7.8792</td>\n",
       "      <td>NaN</td>\n",
       "      <td>S</td>\n",
       "      <td>0</td>\n",
       "    </tr>\n",
       "    <tr>\n",
       "      <th>2</th>\n",
       "      <td>1240</td>\n",
       "      <td>2</td>\n",
       "      <td>Giles, Mr. Ralph</td>\n",
       "      <td>male</td>\n",
       "      <td>24.0</td>\n",
       "      <td>0</td>\n",
       "      <td>0</td>\n",
       "      <td>248726</td>\n",
       "      <td>13.5000</td>\n",
       "      <td>NaN</td>\n",
       "      <td>S</td>\n",
       "      <td>0</td>\n",
       "    </tr>\n",
       "    <tr>\n",
       "      <th>3</th>\n",
       "      <td>221</td>\n",
       "      <td>3</td>\n",
       "      <td>Sunderland, Mr. Victor Francis</td>\n",
       "      <td>male</td>\n",
       "      <td>16.0</td>\n",
       "      <td>0</td>\n",
       "      <td>0</td>\n",
       "      <td>SOTON/OQ 392089</td>\n",
       "      <td>8.0500</td>\n",
       "      <td>NaN</td>\n",
       "      <td>S</td>\n",
       "      <td>1</td>\n",
       "    </tr>\n",
       "    <tr>\n",
       "      <th>4</th>\n",
       "      <td>1105</td>\n",
       "      <td>2</td>\n",
       "      <td>Howard, Mrs. Benjamin (Ellen Truelove Arman)</td>\n",
       "      <td>female</td>\n",
       "      <td>60.0</td>\n",
       "      <td>1</td>\n",
       "      <td>0</td>\n",
       "      <td>24065</td>\n",
       "      <td>26.0000</td>\n",
       "      <td>NaN</td>\n",
       "      <td>S</td>\n",
       "      <td>0</td>\n",
       "    </tr>\n",
       "  </tbody>\n",
       "</table>\n",
       "</div>"
      ],
      "text/plain": [
       "   PassengerId  Pclass                                          Name     Sex  \\\n",
       "0          888       1                  Graham, Miss. Margaret Edith  female   \n",
       "1         1249       3                           Lockyer, Mr. Edward    male   \n",
       "2         1240       2                              Giles, Mr. Ralph    male   \n",
       "3          221       3                Sunderland, Mr. Victor Francis    male   \n",
       "4         1105       2  Howard, Mrs. Benjamin (Ellen Truelove Arman)  female   \n",
       "\n",
       "    Age  SibSp  Parch           Ticket     Fare Cabin Embarked  Survived  \n",
       "0  19.0      0      0           112053  30.0000   B42        S         1  \n",
       "1   NaN      0      0             1222   7.8792   NaN        S         0  \n",
       "2  24.0      0      0           248726  13.5000   NaN        S         0  \n",
       "3  16.0      0      0  SOTON/OQ 392089   8.0500   NaN        S         1  \n",
       "4  60.0      1      0            24065  26.0000   NaN        S         0  "
      ]
     },
     "execution_count": 2,
     "metadata": {},
     "output_type": "execute_result"
    }
   ],
   "source": [
    "train_df = pd.read_csv(\"train.csv\")\n",
    "test_df = pd.read_csv(\"test.csv\")\n",
    "\n",
    "train_df.head()"
   ]
  },
  {
   "cell_type": "code",
   "execution_count": 3,
   "metadata": {},
   "outputs": [
    {
     "data": {
      "text/html": [
       "<div>\n",
       "<style scoped>\n",
       "    .dataframe tbody tr th:only-of-type {\n",
       "        vertical-align: middle;\n",
       "    }\n",
       "\n",
       "    .dataframe tbody tr th {\n",
       "        vertical-align: top;\n",
       "    }\n",
       "\n",
       "    .dataframe thead th {\n",
       "        text-align: right;\n",
       "    }\n",
       "</style>\n",
       "<table border=\"1\" class=\"dataframe\">\n",
       "  <thead>\n",
       "    <tr style=\"text-align: right;\">\n",
       "      <th></th>\n",
       "      <th>PassengerId</th>\n",
       "      <th>Pclass</th>\n",
       "      <th>Name</th>\n",
       "      <th>Sex</th>\n",
       "      <th>Age</th>\n",
       "      <th>SibSp</th>\n",
       "      <th>Parch</th>\n",
       "      <th>Ticket</th>\n",
       "      <th>Fare</th>\n",
       "      <th>Cabin</th>\n",
       "      <th>Embarked</th>\n",
       "    </tr>\n",
       "  </thead>\n",
       "  <tbody>\n",
       "    <tr>\n",
       "      <th>0</th>\n",
       "      <td>1167</td>\n",
       "      <td>2</td>\n",
       "      <td>Bryhl, Miss. Dagmar Jenny Ingeborg</td>\n",
       "      <td>female</td>\n",
       "      <td>20.0</td>\n",
       "      <td>1</td>\n",
       "      <td>0</td>\n",
       "      <td>236853</td>\n",
       "      <td>26.00</td>\n",
       "      <td>NaN</td>\n",
       "      <td>S</td>\n",
       "    </tr>\n",
       "    <tr>\n",
       "      <th>1</th>\n",
       "      <td>1215</td>\n",
       "      <td>1</td>\n",
       "      <td>Rowe, Mr. Alfred G</td>\n",
       "      <td>male</td>\n",
       "      <td>33.0</td>\n",
       "      <td>0</td>\n",
       "      <td>0</td>\n",
       "      <td>113790</td>\n",
       "      <td>26.55</td>\n",
       "      <td>NaN</td>\n",
       "      <td>S</td>\n",
       "    </tr>\n",
       "    <tr>\n",
       "      <th>2</th>\n",
       "      <td>823</td>\n",
       "      <td>1</td>\n",
       "      <td>Reuchlin, Jonkheer. John George</td>\n",
       "      <td>male</td>\n",
       "      <td>38.0</td>\n",
       "      <td>0</td>\n",
       "      <td>0</td>\n",
       "      <td>19972</td>\n",
       "      <td>0.00</td>\n",
       "      <td>NaN</td>\n",
       "      <td>S</td>\n",
       "    </tr>\n",
       "    <tr>\n",
       "      <th>3</th>\n",
       "      <td>864</td>\n",
       "      <td>3</td>\n",
       "      <td>Sage, Miss. Dorothy Edith \"Dolly\"</td>\n",
       "      <td>female</td>\n",
       "      <td>NaN</td>\n",
       "      <td>8</td>\n",
       "      <td>2</td>\n",
       "      <td>CA. 2343</td>\n",
       "      <td>69.55</td>\n",
       "      <td>NaN</td>\n",
       "      <td>S</td>\n",
       "    </tr>\n",
       "    <tr>\n",
       "      <th>4</th>\n",
       "      <td>11</td>\n",
       "      <td>3</td>\n",
       "      <td>Sandstrom, Miss. Marguerite Rut</td>\n",
       "      <td>female</td>\n",
       "      <td>4.0</td>\n",
       "      <td>1</td>\n",
       "      <td>1</td>\n",
       "      <td>PP 9549</td>\n",
       "      <td>16.70</td>\n",
       "      <td>G6</td>\n",
       "      <td>S</td>\n",
       "    </tr>\n",
       "  </tbody>\n",
       "</table>\n",
       "</div>"
      ],
      "text/plain": [
       "   PassengerId  Pclass                                 Name     Sex   Age  \\\n",
       "0         1167       2  Bryhl, Miss. Dagmar Jenny Ingeborg   female  20.0   \n",
       "1         1215       1                   Rowe, Mr. Alfred G    male  33.0   \n",
       "2          823       1      Reuchlin, Jonkheer. John George    male  38.0   \n",
       "3          864       3    Sage, Miss. Dorothy Edith \"Dolly\"  female   NaN   \n",
       "4           11       3      Sandstrom, Miss. Marguerite Rut  female   4.0   \n",
       "\n",
       "   SibSp  Parch    Ticket   Fare Cabin Embarked  \n",
       "0      1      0    236853  26.00   NaN        S  \n",
       "1      0      0    113790  26.55   NaN        S  \n",
       "2      0      0     19972   0.00   NaN        S  \n",
       "3      8      2  CA. 2343  69.55   NaN        S  \n",
       "4      1      1   PP 9549  16.70    G6        S  "
      ]
     },
     "execution_count": 3,
     "metadata": {},
     "output_type": "execute_result"
    }
   ],
   "source": [
    "test_df.head()"
   ]
  },
  {
   "cell_type": "markdown",
   "metadata": {},
   "source": [
    "\n",
    "## Извлечение признаков\n",
    "\n",
    "Проделаем ту же самую работу, которая была в бейзлайне последнего соревнования\n"
   ]
  },
  {
   "cell_type": "code",
   "execution_count": 4,
   "metadata": {},
   "outputs": [
    {
     "data": {
      "text/html": [
       "<div>\n",
       "<style scoped>\n",
       "    .dataframe tbody tr th:only-of-type {\n",
       "        vertical-align: middle;\n",
       "    }\n",
       "\n",
       "    .dataframe tbody tr th {\n",
       "        vertical-align: top;\n",
       "    }\n",
       "\n",
       "    .dataframe thead th {\n",
       "        text-align: right;\n",
       "    }\n",
       "</style>\n",
       "<table border=\"1\" class=\"dataframe\">\n",
       "  <thead>\n",
       "    <tr style=\"text-align: right;\">\n",
       "      <th></th>\n",
       "      <th>PassengerId</th>\n",
       "      <th>Pclass</th>\n",
       "      <th>Name</th>\n",
       "      <th>Sex</th>\n",
       "      <th>Age</th>\n",
       "      <th>SibSp</th>\n",
       "      <th>Parch</th>\n",
       "      <th>Ticket</th>\n",
       "      <th>Fare</th>\n",
       "      <th>Cabin</th>\n",
       "      <th>Embarked</th>\n",
       "      <th>Survived</th>\n",
       "      <th>Title</th>\n",
       "    </tr>\n",
       "  </thead>\n",
       "  <tbody>\n",
       "    <tr>\n",
       "      <th>0</th>\n",
       "      <td>888</td>\n",
       "      <td>1</td>\n",
       "      <td>Graham, Miss. Margaret Edith</td>\n",
       "      <td>female</td>\n",
       "      <td>19.0</td>\n",
       "      <td>0</td>\n",
       "      <td>0</td>\n",
       "      <td>112053</td>\n",
       "      <td>30.0000</td>\n",
       "      <td>B42</td>\n",
       "      <td>S</td>\n",
       "      <td>1</td>\n",
       "      <td>Miss</td>\n",
       "    </tr>\n",
       "    <tr>\n",
       "      <th>1</th>\n",
       "      <td>1249</td>\n",
       "      <td>3</td>\n",
       "      <td>Lockyer, Mr. Edward</td>\n",
       "      <td>male</td>\n",
       "      <td>NaN</td>\n",
       "      <td>0</td>\n",
       "      <td>0</td>\n",
       "      <td>1222</td>\n",
       "      <td>7.8792</td>\n",
       "      <td>NaN</td>\n",
       "      <td>S</td>\n",
       "      <td>0</td>\n",
       "      <td>Mr</td>\n",
       "    </tr>\n",
       "    <tr>\n",
       "      <th>2</th>\n",
       "      <td>1240</td>\n",
       "      <td>2</td>\n",
       "      <td>Giles, Mr. Ralph</td>\n",
       "      <td>male</td>\n",
       "      <td>24.0</td>\n",
       "      <td>0</td>\n",
       "      <td>0</td>\n",
       "      <td>248726</td>\n",
       "      <td>13.5000</td>\n",
       "      <td>NaN</td>\n",
       "      <td>S</td>\n",
       "      <td>0</td>\n",
       "      <td>Mr</td>\n",
       "    </tr>\n",
       "    <tr>\n",
       "      <th>3</th>\n",
       "      <td>221</td>\n",
       "      <td>3</td>\n",
       "      <td>Sunderland, Mr. Victor Francis</td>\n",
       "      <td>male</td>\n",
       "      <td>16.0</td>\n",
       "      <td>0</td>\n",
       "      <td>0</td>\n",
       "      <td>SOTON/OQ 392089</td>\n",
       "      <td>8.0500</td>\n",
       "      <td>NaN</td>\n",
       "      <td>S</td>\n",
       "      <td>1</td>\n",
       "      <td>Mr</td>\n",
       "    </tr>\n",
       "    <tr>\n",
       "      <th>4</th>\n",
       "      <td>1105</td>\n",
       "      <td>2</td>\n",
       "      <td>Howard, Mrs. Benjamin (Ellen Truelove Arman)</td>\n",
       "      <td>female</td>\n",
       "      <td>60.0</td>\n",
       "      <td>1</td>\n",
       "      <td>0</td>\n",
       "      <td>24065</td>\n",
       "      <td>26.0000</td>\n",
       "      <td>NaN</td>\n",
       "      <td>S</td>\n",
       "      <td>0</td>\n",
       "      <td>Mrs</td>\n",
       "    </tr>\n",
       "  </tbody>\n",
       "</table>\n",
       "</div>"
      ],
      "text/plain": [
       "   PassengerId  Pclass                                          Name     Sex  \\\n",
       "0          888       1                  Graham, Miss. Margaret Edith  female   \n",
       "1         1249       3                           Lockyer, Mr. Edward    male   \n",
       "2         1240       2                              Giles, Mr. Ralph    male   \n",
       "3          221       3                Sunderland, Mr. Victor Francis    male   \n",
       "4         1105       2  Howard, Mrs. Benjamin (Ellen Truelove Arman)  female   \n",
       "\n",
       "    Age  SibSp  Parch           Ticket     Fare Cabin Embarked  Survived Title  \n",
       "0  19.0      0      0           112053  30.0000   B42        S         1  Miss  \n",
       "1   NaN      0      0             1222   7.8792   NaN        S         0    Mr  \n",
       "2  24.0      0      0           248726  13.5000   NaN        S         0    Mr  \n",
       "3  16.0      0      0  SOTON/OQ 392089   8.0500   NaN        S         1    Mr  \n",
       "4  60.0      1      0            24065  26.0000   NaN        S         0   Mrs  "
      ]
     },
     "execution_count": 4,
     "metadata": {},
     "output_type": "execute_result"
    }
   ],
   "source": [
    "train_df[\"Title\"] = train_df.Name.apply(lambda x: x.split(\" \")[1].replace(\".\", \"\"))\n",
    "test_df[\"Title\"] = test_df.Name.apply(lambda x: x.split(\" \")[1].replace(\".\", \"\"))\n",
    "\n",
    "title_stat = train_df.groupby(\"Title\").Name.agg([\"count\"])\n",
    "title_stat[\"is_rare\"] = title_stat[\"count\"] < 10\n",
    "titles = title_stat[~title_stat.is_rare].index.values\n",
    "\n",
    "train_df.Title = train_df.Title.apply(lambda x: x if x in titles else \"rare_title\")\n",
    "test_df.Title = test_df.Title.apply(lambda x: x if x in titles else \"rare_title\")\n",
    "\n",
    "train_df.head()"
   ]
  },
  {
   "cell_type": "code",
   "execution_count": 5,
   "metadata": {},
   "outputs": [
    {
     "data": {
      "text/plain": [
       "Title\n",
       "Master         38\n",
       "Miss          163\n",
       "Mr            487\n",
       "Mrs           123\n",
       "rare_title     39\n",
       "Name: PassengerId, dtype: int64"
      ]
     },
     "execution_count": 5,
     "metadata": {},
     "output_type": "execute_result"
    }
   ],
   "source": [
    "train_df.groupby(\"Title\").PassengerId.count()"
   ]
  },
  {
   "cell_type": "code",
   "execution_count": 6,
   "metadata": {},
   "outputs": [],
   "source": [
    "train_df[\"Children\"] = train_df.Age.apply(lambda x: 1 if x < 18 else 0)\n",
    "train_df[\"Mother\"] = train_df.apply(lambda x: 1 if x.Sex == \"female\" and x.Age > 18 and x.Parch > 0 else 0, axis=1)\n",
    "train_df[\"Family_size\"] = train_df.SibSp + train_df.Parch + 1\n",
    "\n",
    "test_df[\"Children\"] = test_df.Age.apply(lambda x: 1 if x < 18 else 0)\n",
    "test_df[\"Mother\"] = test_df.apply(lambda x: 1 if x.Sex == \"female\" and x.Age > 18 and x.Parch > 0 else 0, axis=1)\n",
    "test_df[\"Family_size\"] = test_df.SibSp + test_df.Parch + 1\n",
    "\n",
    "train_df[\"Deck\"] = train_df.Cabin.astype(\"str\").apply(lambda x: x[0] if x != \"nan\" else \"no_deck\")\n",
    "test_df[\"Deck\"] = test_df.Cabin.astype(\"str\").apply(lambda x: x[0] if x != \"nan\" else \"no_deck\")"
   ]
  },
  {
   "cell_type": "markdown",
   "metadata": {},
   "source": [
    "Заполним пропуски на этот раз медианными значениями"
   ]
  },
  {
   "cell_type": "code",
   "execution_count": 7,
   "metadata": {},
   "outputs": [],
   "source": [
    "train_df.Age = train_df.Age.fillna(train_df.Age.dropna().median()).astype(\"int16\")\n",
    "train_df.Fare = train_df.Fare.fillna(train_df.Fare.dropna().median())\n",
    "train_df.Embarked = train_df.Embarked.fillna(\"no_info\")\n",
    "\n",
    "test_df.Age = test_df.Age.fillna(train_df.Age.dropna().median()).astype(\"int16\")\n",
    "test_df.Fare = test_df.Fare.fillna(train_df.Fare.dropna().median())\n",
    "test_df.Embarked = test_df.Embarked.fillna(\"no_info\")"
   ]
  },
  {
   "cell_type": "code",
   "execution_count": 8,
   "metadata": {},
   "outputs": [
    {
     "data": {
      "text/html": [
       "<div>\n",
       "<style scoped>\n",
       "    .dataframe tbody tr th:only-of-type {\n",
       "        vertical-align: middle;\n",
       "    }\n",
       "\n",
       "    .dataframe tbody tr th {\n",
       "        vertical-align: top;\n",
       "    }\n",
       "\n",
       "    .dataframe thead th {\n",
       "        text-align: right;\n",
       "    }\n",
       "</style>\n",
       "<table border=\"1\" class=\"dataframe\">\n",
       "  <thead>\n",
       "    <tr style=\"text-align: right;\">\n",
       "      <th></th>\n",
       "      <th>PassengerId</th>\n",
       "      <th>Pclass</th>\n",
       "      <th>Name</th>\n",
       "      <th>Sex</th>\n",
       "      <th>Age</th>\n",
       "      <th>SibSp</th>\n",
       "      <th>Parch</th>\n",
       "      <th>Ticket</th>\n",
       "      <th>Fare</th>\n",
       "      <th>Cabin</th>\n",
       "      <th>Embarked</th>\n",
       "      <th>Survived</th>\n",
       "      <th>Title</th>\n",
       "      <th>Children</th>\n",
       "      <th>Mother</th>\n",
       "      <th>Family_size</th>\n",
       "      <th>Deck</th>\n",
       "    </tr>\n",
       "  </thead>\n",
       "  <tbody>\n",
       "    <tr>\n",
       "      <th>0</th>\n",
       "      <td>888</td>\n",
       "      <td>1</td>\n",
       "      <td>Graham, Miss. Margaret Edith</td>\n",
       "      <td>female</td>\n",
       "      <td>19</td>\n",
       "      <td>0</td>\n",
       "      <td>0</td>\n",
       "      <td>112053</td>\n",
       "      <td>30.0000</td>\n",
       "      <td>B42</td>\n",
       "      <td>S</td>\n",
       "      <td>1</td>\n",
       "      <td>Miss</td>\n",
       "      <td>0</td>\n",
       "      <td>0</td>\n",
       "      <td>1</td>\n",
       "      <td>B</td>\n",
       "    </tr>\n",
       "    <tr>\n",
       "      <th>1</th>\n",
       "      <td>1249</td>\n",
       "      <td>3</td>\n",
       "      <td>Lockyer, Mr. Edward</td>\n",
       "      <td>male</td>\n",
       "      <td>28</td>\n",
       "      <td>0</td>\n",
       "      <td>0</td>\n",
       "      <td>1222</td>\n",
       "      <td>7.8792</td>\n",
       "      <td>NaN</td>\n",
       "      <td>S</td>\n",
       "      <td>0</td>\n",
       "      <td>Mr</td>\n",
       "      <td>0</td>\n",
       "      <td>0</td>\n",
       "      <td>1</td>\n",
       "      <td>no_deck</td>\n",
       "    </tr>\n",
       "    <tr>\n",
       "      <th>2</th>\n",
       "      <td>1240</td>\n",
       "      <td>2</td>\n",
       "      <td>Giles, Mr. Ralph</td>\n",
       "      <td>male</td>\n",
       "      <td>24</td>\n",
       "      <td>0</td>\n",
       "      <td>0</td>\n",
       "      <td>248726</td>\n",
       "      <td>13.5000</td>\n",
       "      <td>NaN</td>\n",
       "      <td>S</td>\n",
       "      <td>0</td>\n",
       "      <td>Mr</td>\n",
       "      <td>0</td>\n",
       "      <td>0</td>\n",
       "      <td>1</td>\n",
       "      <td>no_deck</td>\n",
       "    </tr>\n",
       "    <tr>\n",
       "      <th>3</th>\n",
       "      <td>221</td>\n",
       "      <td>3</td>\n",
       "      <td>Sunderland, Mr. Victor Francis</td>\n",
       "      <td>male</td>\n",
       "      <td>16</td>\n",
       "      <td>0</td>\n",
       "      <td>0</td>\n",
       "      <td>SOTON/OQ 392089</td>\n",
       "      <td>8.0500</td>\n",
       "      <td>NaN</td>\n",
       "      <td>S</td>\n",
       "      <td>1</td>\n",
       "      <td>Mr</td>\n",
       "      <td>1</td>\n",
       "      <td>0</td>\n",
       "      <td>1</td>\n",
       "      <td>no_deck</td>\n",
       "    </tr>\n",
       "    <tr>\n",
       "      <th>4</th>\n",
       "      <td>1105</td>\n",
       "      <td>2</td>\n",
       "      <td>Howard, Mrs. Benjamin (Ellen Truelove Arman)</td>\n",
       "      <td>female</td>\n",
       "      <td>60</td>\n",
       "      <td>1</td>\n",
       "      <td>0</td>\n",
       "      <td>24065</td>\n",
       "      <td>26.0000</td>\n",
       "      <td>NaN</td>\n",
       "      <td>S</td>\n",
       "      <td>0</td>\n",
       "      <td>Mrs</td>\n",
       "      <td>0</td>\n",
       "      <td>0</td>\n",
       "      <td>2</td>\n",
       "      <td>no_deck</td>\n",
       "    </tr>\n",
       "  </tbody>\n",
       "</table>\n",
       "</div>"
      ],
      "text/plain": [
       "   PassengerId  Pclass                                          Name     Sex  \\\n",
       "0          888       1                  Graham, Miss. Margaret Edith  female   \n",
       "1         1249       3                           Lockyer, Mr. Edward    male   \n",
       "2         1240       2                              Giles, Mr. Ralph    male   \n",
       "3          221       3                Sunderland, Mr. Victor Francis    male   \n",
       "4         1105       2  Howard, Mrs. Benjamin (Ellen Truelove Arman)  female   \n",
       "\n",
       "   Age  SibSp  Parch           Ticket     Fare Cabin Embarked  Survived Title  \\\n",
       "0   19      0      0           112053  30.0000   B42        S         1  Miss   \n",
       "1   28      0      0             1222   7.8792   NaN        S         0    Mr   \n",
       "2   24      0      0           248726  13.5000   NaN        S         0    Mr   \n",
       "3   16      0      0  SOTON/OQ 392089   8.0500   NaN        S         1    Mr   \n",
       "4   60      1      0            24065  26.0000   NaN        S         0   Mrs   \n",
       "\n",
       "   Children  Mother  Family_size     Deck  \n",
       "0         0       0            1        B  \n",
       "1         0       0            1  no_deck  \n",
       "2         0       0            1  no_deck  \n",
       "3         1       0            1  no_deck  \n",
       "4         0       0            2  no_deck  "
      ]
     },
     "execution_count": 8,
     "metadata": {},
     "output_type": "execute_result"
    }
   ],
   "source": [
    "train_df.head()"
   ]
  },
  {
   "cell_type": "code",
   "execution_count": 9,
   "metadata": {},
   "outputs": [
    {
     "data": {
      "text/plain": [
       "array(['S', 'C', 'Q'], dtype=object)"
      ]
     },
     "execution_count": 9,
     "metadata": {},
     "output_type": "execute_result"
    }
   ],
   "source": [
    "train_df.Embarked.unique()"
   ]
  },
  {
   "cell_type": "markdown",
   "metadata": {},
   "source": [
    "## Базовая версия признаков\n",
    "\n",
    "Для начала полностью повторим все шаги, которые были в бейзлайне и замерим качество"
   ]
  },
  {
   "cell_type": "code",
   "execution_count": 10,
   "metadata": {},
   "outputs": [
    {
     "data": {
      "text/html": [
       "<div>\n",
       "<style scoped>\n",
       "    .dataframe tbody tr th:only-of-type {\n",
       "        vertical-align: middle;\n",
       "    }\n",
       "\n",
       "    .dataframe tbody tr th {\n",
       "        vertical-align: top;\n",
       "    }\n",
       "\n",
       "    .dataframe thead th {\n",
       "        text-align: right;\n",
       "    }\n",
       "</style>\n",
       "<table border=\"1\" class=\"dataframe\">\n",
       "  <thead>\n",
       "    <tr style=\"text-align: right;\">\n",
       "      <th></th>\n",
       "      <th>Age</th>\n",
       "      <th>Children</th>\n",
       "      <th>Deck</th>\n",
       "      <th>Embarked</th>\n",
       "      <th>Family_size</th>\n",
       "      <th>Fare</th>\n",
       "      <th>Mother</th>\n",
       "      <th>PassengerId</th>\n",
       "      <th>Pclass</th>\n",
       "      <th>Sex</th>\n",
       "      <th>Title</th>\n",
       "    </tr>\n",
       "  </thead>\n",
       "  <tbody>\n",
       "    <tr>\n",
       "      <th>0</th>\n",
       "      <td>20</td>\n",
       "      <td>0</td>\n",
       "      <td>8</td>\n",
       "      <td>2</td>\n",
       "      <td>2</td>\n",
       "      <td>26.00</td>\n",
       "      <td>0</td>\n",
       "      <td>1167</td>\n",
       "      <td>2</td>\n",
       "      <td>0</td>\n",
       "      <td>1</td>\n",
       "    </tr>\n",
       "    <tr>\n",
       "      <th>1</th>\n",
       "      <td>33</td>\n",
       "      <td>0</td>\n",
       "      <td>8</td>\n",
       "      <td>2</td>\n",
       "      <td>1</td>\n",
       "      <td>26.55</td>\n",
       "      <td>0</td>\n",
       "      <td>1215</td>\n",
       "      <td>1</td>\n",
       "      <td>1</td>\n",
       "      <td>2</td>\n",
       "    </tr>\n",
       "    <tr>\n",
       "      <th>2</th>\n",
       "      <td>38</td>\n",
       "      <td>0</td>\n",
       "      <td>8</td>\n",
       "      <td>2</td>\n",
       "      <td>1</td>\n",
       "      <td>0.00</td>\n",
       "      <td>0</td>\n",
       "      <td>823</td>\n",
       "      <td>1</td>\n",
       "      <td>1</td>\n",
       "      <td>4</td>\n",
       "    </tr>\n",
       "    <tr>\n",
       "      <th>3</th>\n",
       "      <td>28</td>\n",
       "      <td>0</td>\n",
       "      <td>8</td>\n",
       "      <td>2</td>\n",
       "      <td>11</td>\n",
       "      <td>69.55</td>\n",
       "      <td>0</td>\n",
       "      <td>864</td>\n",
       "      <td>3</td>\n",
       "      <td>0</td>\n",
       "      <td>1</td>\n",
       "    </tr>\n",
       "    <tr>\n",
       "      <th>4</th>\n",
       "      <td>4</td>\n",
       "      <td>1</td>\n",
       "      <td>6</td>\n",
       "      <td>2</td>\n",
       "      <td>3</td>\n",
       "      <td>16.70</td>\n",
       "      <td>0</td>\n",
       "      <td>11</td>\n",
       "      <td>3</td>\n",
       "      <td>0</td>\n",
       "      <td>1</td>\n",
       "    </tr>\n",
       "  </tbody>\n",
       "</table>\n",
       "</div>"
      ],
      "text/plain": [
       "   Age  Children  Deck  Embarked  Family_size   Fare  Mother  PassengerId  \\\n",
       "0   20         0     8         2            2  26.00       0         1167   \n",
       "1   33         0     8         2            1  26.55       0         1215   \n",
       "2   38         0     8         2            1   0.00       0          823   \n",
       "3   28         0     8         2           11  69.55       0          864   \n",
       "4    4         1     6         2            3  16.70       0           11   \n",
       "\n",
       "   Pclass  Sex  Title  \n",
       "0       2    0      1  \n",
       "1       1    1      2  \n",
       "2       1    1      4  \n",
       "3       3    0      1  \n",
       "4       3    0      1  "
      ]
     },
     "execution_count": 10,
     "metadata": {},
     "output_type": "execute_result"
    }
   ],
   "source": [
    "train_v1 = train_df.copy()\n",
    "test_v1 = test_df.copy()\n",
    "\n",
    "unnecessary_cols = [\"Name\", \"Ticket\", \"SibSp\", \"Parch\", \"Cabin\"]\n",
    "\n",
    "train_v1 = train_v1.drop(unnecessary_cols, axis=1)\n",
    "test_v1 = test_v1.drop(unnecessary_cols, axis=1)\n",
    "\n",
    "encoder = LabelEncoder()\n",
    "encoding_cols = [\"Sex\", \"Embarked\", \"Title\", \"Deck\"]\n",
    "\n",
    "full_df = pd.concat([train_v1, test_v1], axis=0)\n",
    "\n",
    "for col in encoding_cols:\n",
    "    full_df[col] = encoder.fit_transform(full_df[col])\n",
    "    \n",
    "train_v1 = full_df[full_df.Survived.notnull()]\n",
    "train_v1.Survived = train_v1.Survived.astype(\"int8\")\n",
    "\n",
    "test_v1 = full_df[full_df.Survived.isnull()]\n",
    "test_v1.drop(\"Survived\", axis=1, inplace=True)\n",
    "\n",
    "feature_cols = [col for col in train_v1.columns if col not in {\"PassengerId\", \"Survived\"}]\n",
    "target_col = \"Survived\"\n",
    "\n",
    "X = train_v1[feature_cols].values\n",
    "y = train_v1[target_col]\n",
    "test_v1.head()"
   ]
  },
  {
   "cell_type": "code",
   "execution_count": 11,
   "metadata": {},
   "outputs": [
    {
     "data": {
      "text/html": [
       "<div>\n",
       "<style scoped>\n",
       "    .dataframe tbody tr th:only-of-type {\n",
       "        vertical-align: middle;\n",
       "    }\n",
       "\n",
       "    .dataframe tbody tr th {\n",
       "        vertical-align: top;\n",
       "    }\n",
       "\n",
       "    .dataframe thead th {\n",
       "        text-align: right;\n",
       "    }\n",
       "</style>\n",
       "<table border=\"1\" class=\"dataframe\">\n",
       "  <thead>\n",
       "    <tr style=\"text-align: right;\">\n",
       "      <th></th>\n",
       "      <th>Age</th>\n",
       "      <th>Children</th>\n",
       "      <th>Deck</th>\n",
       "      <th>Embarked</th>\n",
       "      <th>Family_size</th>\n",
       "      <th>Fare</th>\n",
       "      <th>Mother</th>\n",
       "      <th>PassengerId</th>\n",
       "      <th>Pclass</th>\n",
       "      <th>Sex</th>\n",
       "      <th>Survived</th>\n",
       "      <th>Title</th>\n",
       "    </tr>\n",
       "  </thead>\n",
       "  <tbody>\n",
       "    <tr>\n",
       "      <th>0</th>\n",
       "      <td>19</td>\n",
       "      <td>0</td>\n",
       "      <td>1</td>\n",
       "      <td>2</td>\n",
       "      <td>1</td>\n",
       "      <td>30.0000</td>\n",
       "      <td>0</td>\n",
       "      <td>888</td>\n",
       "      <td>1</td>\n",
       "      <td>0</td>\n",
       "      <td>1</td>\n",
       "      <td>1</td>\n",
       "    </tr>\n",
       "    <tr>\n",
       "      <th>1</th>\n",
       "      <td>28</td>\n",
       "      <td>0</td>\n",
       "      <td>8</td>\n",
       "      <td>2</td>\n",
       "      <td>1</td>\n",
       "      <td>7.8792</td>\n",
       "      <td>0</td>\n",
       "      <td>1249</td>\n",
       "      <td>3</td>\n",
       "      <td>1</td>\n",
       "      <td>0</td>\n",
       "      <td>2</td>\n",
       "    </tr>\n",
       "    <tr>\n",
       "      <th>2</th>\n",
       "      <td>24</td>\n",
       "      <td>0</td>\n",
       "      <td>8</td>\n",
       "      <td>2</td>\n",
       "      <td>1</td>\n",
       "      <td>13.5000</td>\n",
       "      <td>0</td>\n",
       "      <td>1240</td>\n",
       "      <td>2</td>\n",
       "      <td>1</td>\n",
       "      <td>0</td>\n",
       "      <td>2</td>\n",
       "    </tr>\n",
       "    <tr>\n",
       "      <th>3</th>\n",
       "      <td>16</td>\n",
       "      <td>1</td>\n",
       "      <td>8</td>\n",
       "      <td>2</td>\n",
       "      <td>1</td>\n",
       "      <td>8.0500</td>\n",
       "      <td>0</td>\n",
       "      <td>221</td>\n",
       "      <td>3</td>\n",
       "      <td>1</td>\n",
       "      <td>1</td>\n",
       "      <td>2</td>\n",
       "    </tr>\n",
       "    <tr>\n",
       "      <th>4</th>\n",
       "      <td>60</td>\n",
       "      <td>0</td>\n",
       "      <td>8</td>\n",
       "      <td>2</td>\n",
       "      <td>2</td>\n",
       "      <td>26.0000</td>\n",
       "      <td>0</td>\n",
       "      <td>1105</td>\n",
       "      <td>2</td>\n",
       "      <td>0</td>\n",
       "      <td>0</td>\n",
       "      <td>3</td>\n",
       "    </tr>\n",
       "  </tbody>\n",
       "</table>\n",
       "</div>"
      ],
      "text/plain": [
       "   Age  Children  Deck  Embarked  Family_size     Fare  Mother  PassengerId  \\\n",
       "0   19         0     1         2            1  30.0000       0          888   \n",
       "1   28         0     8         2            1   7.8792       0         1249   \n",
       "2   24         0     8         2            1  13.5000       0         1240   \n",
       "3   16         1     8         2            1   8.0500       0          221   \n",
       "4   60         0     8         2            2  26.0000       0         1105   \n",
       "\n",
       "   Pclass  Sex  Survived  Title  \n",
       "0       1    0         1      1  \n",
       "1       3    1         0      2  \n",
       "2       2    1         0      2  \n",
       "3       3    1         1      2  \n",
       "4       2    0         0      3  "
      ]
     },
     "execution_count": 11,
     "metadata": {},
     "output_type": "execute_result"
    }
   ],
   "source": [
    "train_v1.head()"
   ]
  },
  {
   "cell_type": "markdown",
   "metadata": {},
   "source": [
    "### 1. Дерево без настройки гиперпараметров"
   ]
  },
  {
   "cell_type": "code",
   "execution_count": 12,
   "metadata": {},
   "outputs": [
    {
     "data": {
      "text/plain": [
       "DecisionTreeClassifier(class_weight=None, criterion='gini', max_depth=2,\n",
       "                       max_features=None, max_leaf_nodes=None,\n",
       "                       min_impurity_decrease=0.0, min_impurity_split=None,\n",
       "                       min_samples_leaf=1, min_samples_split=2,\n",
       "                       min_weight_fraction_leaf=0.0, presort=False,\n",
       "                       random_state=42, splitter='best')"
      ]
     },
     "execution_count": 12,
     "metadata": {},
     "output_type": "execute_result"
    }
   ],
   "source": [
    "from sklearn.tree import DecisionTreeClassifier\n",
    "\n",
    "RANDOM_STATE = 42\n",
    "\n",
    "model = DecisionTreeClassifier(max_depth=2, random_state=RANDOM_STATE)\n",
    "model.fit(X, y)"
   ]
  },
  {
   "cell_type": "code",
   "execution_count": 13,
   "metadata": {},
   "outputs": [],
   "source": [
    "def make_submission(ids, preds, output_path='submission.csv'):\n",
    "    subm = pd.DataFrame()\n",
    "    subm['PassengerId'] = ids\n",
    "    subm['Survived'] = preds\n",
    "    subm.to_csv(output_path, index=False)"
   ]
  },
  {
   "cell_type": "markdown",
   "metadata": {},
   "source": [
    "какой получается скор на public лидерборде в соревновании (c точностью до трех знаков)?\n",
    "\n",
    "    0.760\n",
    "    0.754\n",
    "    0.759\n",
    "    0.761"
   ]
  },
  {
   "cell_type": "code",
   "execution_count": 14,
   "metadata": {},
   "outputs": [
    {
     "name": "stdout",
     "output_type": "stream",
     "text": [
      "Index(['Age', 'Children', 'Deck', 'Embarked', 'Family_size', 'Fare', 'Mother',\n",
      "       'PassengerId', 'Pclass', 'Sex', 'Title'],\n",
      "      dtype='object')\n",
      "0.754\n"
     ]
    }
   ],
   "source": [
    "# Your code here\n",
    "print(test_v1.columns)\n",
    "X1 = test_v1[feature_cols].values\n",
    "predict = model.predict(X1)\n",
    "make_submission(test_df['PassengerId'].values, predict)\n",
    "sub_1 = pd.read_csv('submission.csv')\n",
    "print(0.754)"
   ]
  },
  {
   "cell_type": "markdown",
   "metadata": {},
   "source": [
    "Теперь ваша задача отрисовать дерево. Необходимые библиотеки указаны ниже, вам необходимо немного погуглить."
   ]
  },
  {
   "cell_type": "code",
   "execution_count": 15,
   "metadata": {},
   "outputs": [],
   "source": [
    "#!pip install pydotplus\n",
    "#!pip install graphviz\n",
    "import sklearn\n",
    "from ipywidgets import Image\n",
    "from io import StringIO\n",
    "import pydotplus\n",
    "from sklearn.tree import export_graphviz"
   ]
  },
  {
   "cell_type": "code",
   "execution_count": 16,
   "metadata": {},
   "outputs": [
    {
     "data": {
      "image/png": "[encoded data removed]",
      "text/plain": [
       "<IPython.core.display.Image object>"
      ]
     },
     "execution_count": 16,
     "metadata": {},
     "output_type": "execute_result"
    }
   ],
   "source": [
    "# Ваш код здесь\n",
    "#dot_data = export_graphviz(model, feature_names=['Age', 'Children', 'Deck', 'Embarked', 'Family_size', 'Fare', 'Mother', 'Pclass', 'Sex', 'Title'])\n",
    "#dot -Tpng 'tree.dot' -o 'tree.png'\n",
    "\n",
    "\n",
    "#graph = pydotplus.graph_from_dot_data(dot_data)\n",
    "#graph.write_png('tree.png')\n",
    "\n",
    "#from IPython.core.display import Image, display\n",
    "#display(Image('tree.png', unconfined=True))\n",
    "dot_data = export_graphviz(model,\n",
    "                                feature_names=['Age', 'Children', 'Deck', 'Embarked', 'Family_size', 'Fare', 'Mother', 'Pclass', 'Sex', 'Title'],\n",
    "                                out_file=None,\n",
    "                                filled=True,\n",
    "                                rounded=True,\n",
    "                                special_characters=True)  \n",
    "graph = pydotplus.graph_from_dot_data(dot_data)  \n",
    "\n",
    "from IPython.display import Image \n",
    "Image(graph.create_png()) "
   ]
  },
  {
   "cell_type": "markdown",
   "metadata": {},
   "source": [
    "сколько признаков задействуется в дереве с максимальной глубиной 2?\n",
    "\n",
    "    2\n",
    "    3\n",
    "    4\n",
    "    5\n",
    "\n",
    "Ваш ответ ниже"
   ]
  },
  {
   "cell_type": "code",
   "execution_count": 17,
   "metadata": {},
   "outputs": [
    {
     "name": "stdout",
     "output_type": "stream",
     "text": [
      "3\n"
     ]
    }
   ],
   "source": [
    "print(3)"
   ]
  },
  {
   "cell_type": "markdown",
   "metadata": {},
   "source": [
    "### 2. Дерево с настройкой гиперпараметров"
   ]
  },
  {
   "cell_type": "code",
   "execution_count": 18,
   "metadata": {},
   "outputs": [
    {
     "name": "stdout",
     "output_type": "stream",
     "text": [
      "GridSearchCV(cv=5, error_score='raise-deprecating',\n",
      "             estimator=DecisionTreeClassifier(class_weight=None,\n",
      "                                              criterion='gini', max_depth=None,\n",
      "                                              max_features=None,\n",
      "                                              max_leaf_nodes=None,\n",
      "                                              min_impurity_decrease=0.0,\n",
      "                                              min_impurity_split=None,\n",
      "                                              min_samples_leaf=1,\n",
      "                                              min_samples_split=2,\n",
      "                                              min_weight_fraction_leaf=0.0,\n",
      "                                              presort=False, random_state=None,\n",
      "                                              splitter='best'),\n",
      "             iid='warn', n_jobs=None,\n",
      "             param_grid={'max_depth': [1, 2, 3, 4, 5, 6, 7],\n",
      "                         'min_samples_leaf': [1, 2, 3, 4, 5, 6, 7, 8, 9]},\n",
      "             pre_dispatch='2*n_jobs', refit=True, return_train_score=False,\n",
      "             scoring=None, verbose=0)\n",
      "{'max_depth': 3, 'min_samples_leaf': 6}\n"
     ]
    }
   ],
   "source": [
    "from sklearn.model_selection import GridSearchCV\n",
    "\n",
    "tree_params = {\n",
    "    'max_depth': range(1, 8),\n",
    "    'min_samples_leaf': range(1, 10)\n",
    "}\n",
    "tree_params = {'max_depth': list(range(1,8)),\n",
    "'min_samples_leaf': list(range(1,10))}\n",
    "\n",
    "# Your code here\n",
    "tree = DecisionTreeClassifier()\n",
    "GS = GridSearchCV(estimator=tree, param_grid=tree_params, cv=5)\n",
    "print(GS)\n",
    "GS.fit(X,y)\n",
    "print(GS.best_params_)"
   ]
  },
  {
   "cell_type": "markdown",
   "metadata": {},
   "source": [
    "какие наилучшие параметры дает нам GridSearchCV\n",
    "\n",
    "    max_depth=3, min_samples_leaf=6\n",
    "    max_depth=4, min_samples_leaf=3\n",
    "    max_depth=2, min_samples_leaf=7\n",
    "    max_depth=3, min_samples_leaf=5\n",
    "\n",
    "Ваш ответ ниже"
   ]
  },
  {
   "cell_type": "code",
   "execution_count": 19,
   "metadata": {},
   "outputs": [
    {
     "name": "stdout",
     "output_type": "stream",
     "text": [
      "0.7788235294117647\n"
     ]
    }
   ],
   "source": [
    "from sklearn.model_selection import cross_val_score, cross_validate, train_test_split\n",
    "score = np.mean(cross_val_score(GS, X, y, cv=5, scoring=\"accuracy\"))\n",
    "print(score)"
   ]
  },
  {
   "cell_type": "markdown",
   "metadata": {},
   "source": [
    "какая средняя точность на 5 фолдах (с точностью до 3-х знаков)?\n",
    "\n",
    "    0.797\n",
    "    0.801\n",
    "    0.794\n",
    "    0.789\n",
    "\n",
    "Ваш ответ ниже"
   ]
  },
  {
   "cell_type": "code",
   "execution_count": 26,
   "metadata": {},
   "outputs": [
    {
     "name": "stdout",
     "output_type": "stream",
     "text": [
      "0.7941176470588235\n"
     ]
    }
   ],
   "source": [
    "print(GS.best_score_)"
   ]
  },
  {
   "cell_type": "markdown",
   "metadata": {},
   "source": [
    "**Теперь сделайте предсказания для тестовой выборки**"
   ]
  },
  {
   "cell_type": "code",
   "execution_count": 34,
   "metadata": {},
   "outputs": [
    {
     "name": "stdout",
     "output_type": "stream",
     "text": [
      "0.784\n"
     ]
    }
   ],
   "source": [
    "# Your code here\n",
    "predict = GS.predict(X1)\n",
    "make_submission(test_df['PassengerId'].values, predict)\n",
    "sub_1 = pd.read_csv('submission.csv')\n",
    "print(0.784)"
   ]
  },
  {
   "cell_type": "markdown",
   "metadata": {},
   "source": [
    "какой получается public-score для данного предсказания?\n",
    "\n",
    "    0.784\n",
    "    0.782\n",
    "    0.779\n",
    "    0.791"
   ]
  },
  {
   "cell_type": "markdown",
   "metadata": {},
   "source": [
    "### 3. One-hot Encoding\n",
    "\n",
    "Теперь вспомним, что в нашем датасете есть категориальные признаки, которые попали в итоговые train и test выборки. Перед тем, как обучать дерево, мы воспользовались label encoding'-ом из sklearn. На выходе строки в таких колонках были преобразованы в соответствующие числа.\n",
    "\n",
    "Как дерево будет работать с такими признаками?\n",
    "\n",
    "Ответ - как с численными (<a href=https://github.com/scikit-learn/scikit-learn/issues/5442>пруф</a>)\n",
    "\n",
    "Нас такой расклад не устраивает, потому что вместо того, чтобы делать сплит по каждому значению признака, дерево будет делать сплит только по тем значениям, при которых будет меняться значение таргета (см. доп. материалы по занятию, там этот момент освещен).\n",
    "\n",
    "Поэтому чтобы дерево умело правильно работать с данными признаками, нам необходимо сделать one-hot encoding\n",
    "\n",
    "Рассмотрим данное преобразование на конкретном примере:\n",
    "\n",
    "Соответствие какому-то конкретному категориальному признаку выносится в отдельную бинарную колонку, как видно выше. И теперь по ходу процесса обучения алгоритм будет рассматривать данные колонки как категориальные, а не как вещественные."
   ]
  },
  {
   "cell_type": "code",
   "execution_count": 20,
   "metadata": {},
   "outputs": [
    {
     "data": {
      "text/html": [
       "<div>\n",
       "<style scoped>\n",
       "    .dataframe tbody tr th:only-of-type {\n",
       "        vertical-align: middle;\n",
       "    }\n",
       "\n",
       "    .dataframe tbody tr th {\n",
       "        vertical-align: top;\n",
       "    }\n",
       "\n",
       "    .dataframe thead th {\n",
       "        text-align: right;\n",
       "    }\n",
       "</style>\n",
       "<table border=\"1\" class=\"dataframe\">\n",
       "  <thead>\n",
       "    <tr style=\"text-align: right;\">\n",
       "      <th></th>\n",
       "      <th>PassengerId</th>\n",
       "      <th>Pclass</th>\n",
       "      <th>Sex</th>\n",
       "      <th>Age</th>\n",
       "      <th>Fare</th>\n",
       "      <th>Embarked</th>\n",
       "      <th>Survived</th>\n",
       "      <th>Title</th>\n",
       "      <th>Children</th>\n",
       "      <th>Mother</th>\n",
       "      <th>Family_size</th>\n",
       "      <th>Deck</th>\n",
       "    </tr>\n",
       "  </thead>\n",
       "  <tbody>\n",
       "    <tr>\n",
       "      <th>0</th>\n",
       "      <td>888</td>\n",
       "      <td>1</td>\n",
       "      <td>female</td>\n",
       "      <td>19</td>\n",
       "      <td>30.0000</td>\n",
       "      <td>S</td>\n",
       "      <td>1</td>\n",
       "      <td>Miss</td>\n",
       "      <td>0</td>\n",
       "      <td>0</td>\n",
       "      <td>1</td>\n",
       "      <td>B</td>\n",
       "    </tr>\n",
       "    <tr>\n",
       "      <th>1</th>\n",
       "      <td>1249</td>\n",
       "      <td>3</td>\n",
       "      <td>male</td>\n",
       "      <td>28</td>\n",
       "      <td>7.8792</td>\n",
       "      <td>S</td>\n",
       "      <td>0</td>\n",
       "      <td>Mr</td>\n",
       "      <td>0</td>\n",
       "      <td>0</td>\n",
       "      <td>1</td>\n",
       "      <td>no_deck</td>\n",
       "    </tr>\n",
       "    <tr>\n",
       "      <th>2</th>\n",
       "      <td>1240</td>\n",
       "      <td>2</td>\n",
       "      <td>male</td>\n",
       "      <td>24</td>\n",
       "      <td>13.5000</td>\n",
       "      <td>S</td>\n",
       "      <td>0</td>\n",
       "      <td>Mr</td>\n",
       "      <td>0</td>\n",
       "      <td>0</td>\n",
       "      <td>1</td>\n",
       "      <td>no_deck</td>\n",
       "    </tr>\n",
       "    <tr>\n",
       "      <th>3</th>\n",
       "      <td>221</td>\n",
       "      <td>3</td>\n",
       "      <td>male</td>\n",
       "      <td>16</td>\n",
       "      <td>8.0500</td>\n",
       "      <td>S</td>\n",
       "      <td>1</td>\n",
       "      <td>Mr</td>\n",
       "      <td>1</td>\n",
       "      <td>0</td>\n",
       "      <td>1</td>\n",
       "      <td>no_deck</td>\n",
       "    </tr>\n",
       "    <tr>\n",
       "      <th>4</th>\n",
       "      <td>1105</td>\n",
       "      <td>2</td>\n",
       "      <td>female</td>\n",
       "      <td>60</td>\n",
       "      <td>26.0000</td>\n",
       "      <td>S</td>\n",
       "      <td>0</td>\n",
       "      <td>Mrs</td>\n",
       "      <td>0</td>\n",
       "      <td>0</td>\n",
       "      <td>2</td>\n",
       "      <td>no_deck</td>\n",
       "    </tr>\n",
       "  </tbody>\n",
       "</table>\n",
       "</div>"
      ],
      "text/plain": [
       "   PassengerId  Pclass     Sex  Age     Fare Embarked  Survived Title  \\\n",
       "0          888       1  female   19  30.0000        S         1  Miss   \n",
       "1         1249       3    male   28   7.8792        S         0    Mr   \n",
       "2         1240       2    male   24  13.5000        S         0    Mr   \n",
       "3          221       3    male   16   8.0500        S         1    Mr   \n",
       "4         1105       2  female   60  26.0000        S         0   Mrs   \n",
       "\n",
       "   Children  Mother  Family_size     Deck  \n",
       "0         0       0            1        B  \n",
       "1         0       0            1  no_deck  \n",
       "2         0       0            1  no_deck  \n",
       "3         1       0            1  no_deck  \n",
       "4         0       0            2  no_deck  "
      ]
     },
     "execution_count": 20,
     "metadata": {},
     "output_type": "execute_result"
    }
   ],
   "source": [
    "unnecessary_cols = [\"Name\", \"Ticket\", \"SibSp\", \"Parch\", \"Cabin\"]\n",
    "\n",
    "train_v2 = train_df.drop(unnecessary_cols, axis=1).copy()\n",
    "test_v2 = test_df.drop(unnecessary_cols, axis=1).copy()\n",
    "\n",
    "train_v2.head()"
   ]
  },
  {
   "cell_type": "code",
   "execution_count": 21,
   "metadata": {},
   "outputs": [
    {
     "name": "stdout",
     "output_type": "stream",
     "text": [
      "Encoding Pclass\n",
      "Encoding Sex\n",
      "Encoding Embarked\n",
      "Encoding Title\n",
      "Encoding Mother\n",
      "Encoding Deck\n"
     ]
    }
   ],
   "source": [
    "\"\"\"\n",
    "train и test могут отличаться по значениям категориальных признаков.\n",
    "Поэтому может получиться так, что train и test будут отличаться по\n",
    "количеству и названию колонок после преобразования.\n",
    "Чтобы этого избежать, объединим train и test, выполним OHE, а потом\n",
    "разъединим обратно.\n",
    "\"\"\"\n",
    "\n",
    "categorical_cols = ['Pclass', 'Sex', 'Embarked', 'Title', 'Mother', 'Deck']\n",
    "full_df = pd.concat([train_v2, test_v2], axis=0)\n",
    "dfs = []\n",
    "\n",
    "for col in categorical_cols:\n",
    "    print(f\"Encoding {col}\")\n",
    "    df = pd.get_dummies(full_df[col], prefix=col)\n",
    "    dfs.append(df)\n",
    "    \n",
    "full_df = pd.concat([full_df] + dfs, axis=1)\n",
    "full_df = full_df.drop(categorical_cols, axis=1)\n",
    "\n",
    "train_v2 = full_df[full_df.Survived.notnull()]\n",
    "train_v2.Survived = train_v1.Survived.astype(\"int8\")\n",
    "\n",
    "test_v2 = full_df[full_df.Survived.isnull()]\n",
    "test_v2 = test_v2.drop(\"Survived\", axis=1)"
   ]
  },
  {
   "cell_type": "markdown",
   "metadata": {},
   "source": [
    "Убедимся, что train от test'a отличаются только тем, что в первом есть таргет, а во втором нет"
   ]
  },
  {
   "cell_type": "code",
   "execution_count": 22,
   "metadata": {},
   "outputs": [
    {
     "data": {
      "text/plain": [
       "{'Survived'}"
      ]
     },
     "execution_count": 22,
     "metadata": {},
     "output_type": "execute_result"
    }
   ],
   "source": [
    "set(train_v2.columns) - set(test_v2.columns)"
   ]
  },
  {
   "cell_type": "code",
   "execution_count": 23,
   "metadata": {},
   "outputs": [],
   "source": [
    "feature_cols = [col for col in train_v2.columns if col not in {\"PassengerId\", \"Survived\"}]\n",
    "target_col = \"Survived\"\n",
    "\n",
    "X = train_v2[feature_cols].values\n",
    "y = train_v2[target_col]"
   ]
  },
  {
   "cell_type": "markdown",
   "metadata": {},
   "source": [
    "### Задание\n",
    "\n",
    "Обучите дерево и подберите оптимальные гиперпараметры при помощи GridSearchCV на данной выборке"
   ]
  },
  {
   "cell_type": "code",
   "execution_count": 24,
   "metadata": {},
   "outputs": [
    {
     "name": "stdout",
     "output_type": "stream",
     "text": [
      "GridSearchCV(cv=5, error_score='raise-deprecating',\n",
      "             estimator=DecisionTreeClassifier(class_weight=None,\n",
      "                                              criterion='gini', max_depth=None,\n",
      "                                              max_features=None,\n",
      "                                              max_leaf_nodes=None,\n",
      "                                              min_impurity_decrease=0.0,\n",
      "                                              min_impurity_split=None,\n",
      "                                              min_samples_leaf=1,\n",
      "                                              min_samples_split=2,\n",
      "                                              min_weight_fraction_leaf=0.0,\n",
      "                                              presort=False, random_state=None,\n",
      "                                              splitter='best'),\n",
      "             iid='warn', n_jobs=None,\n",
      "             param_grid={'max_depth': [1, 2, 3, 4, 5, 6, 7, 8, 9],\n",
      "                         'min_samples_leaf': [1, 2, 3, 4, 5, 6, 7, 8, 9]},\n",
      "             pre_dispatch='2*n_jobs', refit=True, return_train_score=False,\n",
      "             scoring=None, verbose=0)\n",
      "{'max_depth': 3, 'min_samples_leaf': 9}\n"
     ]
    }
   ],
   "source": [
    "tree_params = {\n",
    "    'max_depth': list(range(1, 10)),\n",
    "    'min_samples_leaf': list(range(1, 10))\n",
    "}\n",
    "\n",
    "# Your code here\n",
    "GS1 = GridSearchCV(estimator=tree, param_grid=tree_params, cv=5)\n",
    "print(GS1)\n",
    "GS1.fit(X, y)\n",
    "print(GS1.best_params_)"
   ]
  },
  {
   "cell_type": "markdown",
   "metadata": {},
   "source": [
    "какие наилучшие параметры дает нам GridSearchCV\n",
    "\n",
    "    max_depth=3, min_samples_leaf=6\n",
    "    max_depth=4, min_samples_leaf=3\n",
    "    max_depth=2, min_samples_leaf=7\n",
    "    max_depth=3, min_samples_leaf=9\n",
    "\n",
    "Ваш ответ ниже"
   ]
  },
  {
   "cell_type": "code",
   "execution_count": 25,
   "metadata": {},
   "outputs": [
    {
     "name": "stdout",
     "output_type": "stream",
     "text": [
      "0.8011764705882353\n",
      "0.7623529411764707\n"
     ]
    }
   ],
   "source": [
    "print(GS1.best_score_)\n",
    "score = np.mean(cross_val_score(GS1, X, y, cv=5, scoring=\"accuracy\"))\n",
    "print(score)"
   ]
  },
  {
   "cell_type": "markdown",
   "metadata": {},
   "source": [
    "какая средняя точность на 5 фолдах (с точностью до 3-х знаков)?\n",
    "\n",
    "    0.797\n",
    "    0.801\n",
    "    0.794\n",
    "    0.789"
   ]
  },
  {
   "cell_type": "code",
   "execution_count": 45,
   "metadata": {},
   "outputs": [],
   "source": [
    "X2 = test_v2[feature_cols].values\n",
    "predict = GS1.predict(X2)\n",
    "make_submission(test_df['PassengerId'].values, predict)\n",
    "sub_1 = pd.read_csv('submission.csv')"
   ]
  },
  {
   "cell_type": "markdown",
   "metadata": {},
   "source": [
    "Получите предсказания и сделайте submit в соревнование"
   ]
  },
  {
   "cell_type": "code",
   "execution_count": 46,
   "metadata": {},
   "outputs": [
    {
     "name": "stdout",
     "output_type": "stream",
     "text": [
      "0.784\n"
     ]
    }
   ],
   "source": [
    "print(0.784)"
   ]
  },
  {
   "cell_type": "markdown",
   "metadata": {},
   "source": [
    "какой public score дает данное дерево (с точностью до трех знаков)?\n",
    "\n",
    "    0.794\n",
    "    0.805\n",
    "    0.791\n",
    "    0.789\n",
    "\n",
    "Ваш ответ ниже"
   ]
  },
  {
   "cell_type": "code",
   "execution_count": null,
   "metadata": {},
   "outputs": [],
   "source": []
  }
 ],
 "metadata": {
  "kernelspec": {
   "display_name": "Python 3",
   "language": "python",
   "name": "python3"
  },
  "language_info": {
   "codemirror_mode": {
    "name": "ipython",
    "version": 3
   },
   "file_extension": ".py",
   "mimetype": "text/x-python",
   "name": "python",
   "nbconvert_exporter": "python",
   "pygments_lexer": "ipython3",
   "version": "3.7.3"
  }
 },
 "nbformat": 4,
 "nbformat_minor": 2
}
